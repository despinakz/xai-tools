{
 "cells": [
  {
   "cell_type": "code",
   "execution_count": 1,
   "metadata": {
    "scrolled": true
   },
   "outputs": [
    {
     "name": "stderr",
     "output_type": "stream",
     "text": [
      "C:\\Users\\DespoinaK\\Miniconda3\\envs\\tensorflow\\lib\\site-packages\\tensorflow\\python\\framework\\dtypes.py:523: FutureWarning: Passing (type, 1) or '1type' as a synonym of type is deprecated; in a future version of numpy, it will be understood as (type, (1,)) / '(1,)type'.\n",
      "  _np_qint8 = np.dtype([(\"qint8\", np.int8, 1)])\n",
      "C:\\Users\\DespoinaK\\Miniconda3\\envs\\tensorflow\\lib\\site-packages\\tensorflow\\python\\framework\\dtypes.py:524: FutureWarning: Passing (type, 1) or '1type' as a synonym of type is deprecated; in a future version of numpy, it will be understood as (type, (1,)) / '(1,)type'.\n",
      "  _np_quint8 = np.dtype([(\"quint8\", np.uint8, 1)])\n",
      "C:\\Users\\DespoinaK\\Miniconda3\\envs\\tensorflow\\lib\\site-packages\\tensorflow\\python\\framework\\dtypes.py:525: FutureWarning: Passing (type, 1) or '1type' as a synonym of type is deprecated; in a future version of numpy, it will be understood as (type, (1,)) / '(1,)type'.\n",
      "  _np_qint16 = np.dtype([(\"qint16\", np.int16, 1)])\n",
      "C:\\Users\\DespoinaK\\Miniconda3\\envs\\tensorflow\\lib\\site-packages\\tensorflow\\python\\framework\\dtypes.py:526: FutureWarning: Passing (type, 1) or '1type' as a synonym of type is deprecated; in a future version of numpy, it will be understood as (type, (1,)) / '(1,)type'.\n",
      "  _np_quint16 = np.dtype([(\"quint16\", np.uint16, 1)])\n",
      "C:\\Users\\DespoinaK\\Miniconda3\\envs\\tensorflow\\lib\\site-packages\\tensorflow\\python\\framework\\dtypes.py:527: FutureWarning: Passing (type, 1) or '1type' as a synonym of type is deprecated; in a future version of numpy, it will be understood as (type, (1,)) / '(1,)type'.\n",
      "  _np_qint32 = np.dtype([(\"qint32\", np.int32, 1)])\n",
      "C:\\Users\\DespoinaK\\Miniconda3\\envs\\tensorflow\\lib\\site-packages\\tensorflow\\python\\framework\\dtypes.py:532: FutureWarning: Passing (type, 1) or '1type' as a synonym of type is deprecated; in a future version of numpy, it will be understood as (type, (1,)) / '(1,)type'.\n",
      "  np_resource = np.dtype([(\"resource\", np.ubyte, 1)])\n",
      "Using TensorFlow backend.\n"
     ]
    },
    {
     "name": "stdout",
     "output_type": "stream",
     "text": [
      " * Serving Flask app \"__main__\" (lazy loading)\n",
      " * Environment: production\n",
      "   WARNING: This is a development server. Do not use it in a production deployment.\n",
      "   Use a production WSGI server instead.\n",
      " * Debug mode: off\n"
     ]
    },
    {
     "name": "stderr",
     "output_type": "stream",
     "text": [
      " * Running on http://127.0.0.1:5000/ (Press CTRL+C to quit)\n",
      "127.0.0.1 - - [08/Feb/2020 12:59:00] \"\u001b[37mGET / HTTP/1.1\u001b[0m\" 200 -\n",
      "127.0.0.1 - - [08/Feb/2020 12:59:03] \"\u001b[33mGET /favicon.ico HTTP/1.1\u001b[0m\" 404 -\n",
      "127.0.0.1 - - [08/Feb/2020 12:59:11] \"\u001b[37mGET /code HTTP/1.1\u001b[0m\" 200 -\n",
      "127.0.0.1 - - [08/Feb/2020 12:59:38] \"\u001b[37mPOST /code HTTP/1.1\u001b[0m\" 200 -\n",
      "127.0.0.1 - - [08/Feb/2020 12:59:42] \"\u001b[37mGET /home HTTP/1.1\u001b[0m\" 200 -\n",
      "127.0.0.1 - - [08/Feb/2020 12:59:43] \"\u001b[37mGET /code HTTP/1.1\u001b[0m\" 200 -\n",
      "127.0.0.1 - - [08/Feb/2020 12:59:56] \"\u001b[37mPOST /code HTTP/1.1\u001b[0m\" 200 -\n",
      "127.0.0.1 - - [08/Feb/2020 12:59:59] \"\u001b[37mGET /home HTTP/1.1\u001b[0m\" 200 -\n",
      "127.0.0.1 - - [08/Feb/2020 13:00:01] \"\u001b[37mGET /code HTTP/1.1\u001b[0m\" 200 -\n",
      "127.0.0.1 - - [08/Feb/2020 13:00:19] \"\u001b[37mPOST /code HTTP/1.1\u001b[0m\" 200 -\n",
      "127.0.0.1 - - [08/Feb/2020 13:00:23] \"\u001b[37mGET /home HTTP/1.1\u001b[0m\" 200 -\n",
      "127.0.0.1 - - [08/Feb/2020 13:00:25] \"\u001b[37mGET /code HTTP/1.1\u001b[0m\" 200 -\n",
      "127.0.0.1 - - [08/Feb/2020 13:00:44] \"\u001b[37mPOST /code HTTP/1.1\u001b[0m\" 200 -\n",
      "127.0.0.1 - - [08/Feb/2020 13:00:47] \"\u001b[37mGET /home HTTP/1.1\u001b[0m\" 200 -\n",
      "127.0.0.1 - - [08/Feb/2020 13:00:49] \"\u001b[37mGET /code HTTP/1.1\u001b[0m\" 200 -\n",
      "127.0.0.1 - - [08/Feb/2020 13:00:59] \"\u001b[37mPOST /code HTTP/1.1\u001b[0m\" 200 -\n",
      "127.0.0.1 - - [08/Feb/2020 13:01:01] \"\u001b[37mGET /home HTTP/1.1\u001b[0m\" 200 -\n",
      "127.0.0.1 - - [08/Feb/2020 13:01:03] \"\u001b[37mGET /code HTTP/1.1\u001b[0m\" 200 -\n",
      "127.0.0.1 - - [08/Feb/2020 13:01:15] \"\u001b[37mPOST /code HTTP/1.1\u001b[0m\" 200 -\n",
      "127.0.0.1 - - [08/Feb/2020 13:01:17] \"\u001b[37mGET /home HTTP/1.1\u001b[0m\" 200 -\n",
      "127.0.0.1 - - [08/Feb/2020 13:01:19] \"\u001b[37mGET /code HTTP/1.1\u001b[0m\" 200 -\n",
      "127.0.0.1 - - [08/Feb/2020 13:01:43] \"\u001b[37mPOST /code HTTP/1.1\u001b[0m\" 200 -\n",
      "127.0.0.1 - - [08/Feb/2020 13:01:46] \"\u001b[37mGET /home HTTP/1.1\u001b[0m\" 200 -\n"
     ]
    }
   ],
   "source": [
    "#pip install import-ipynb --> uncomment that line for the first run only, after that you have to comment it\n",
    "import import_ipynb\n",
    "\n",
    "from flask import Flask, render_template, flash, redirect, url_for, session, request, logging\n",
    "from wtforms import Form, BooleanField, StringField, validators\n",
    "import os\n",
    "import sys\n",
    "import imdb_classifier\n",
    "\n",
    "#Create an instance of the Flask class for our web app\n",
    "app = Flask(__name__)\n",
    "#debug the app\n",
    "app.debug=True\n",
    "#In order to use sessions you have to set a secret key\n",
    "app.secret_key = \"super secret key\"\n",
    "\n",
    "#Create a function that returns the output of home.html web page\n",
    "@app.route('/')\n",
    "def index():\n",
    "    return render_template('home.html')\n",
    "\n",
    "#Create a function that returns the output of home.html web page when we click the HOME link\n",
    "@app.route('/home')\n",
    "def home():\n",
    "    return render_template('home.html')\n",
    "\n",
    "#Create a function that validates the string which user write in the form\n",
    "class RegisterForm(Form):\n",
    "    name = StringField('', [validators.Length(min=1, max=500)], render_kw={\"placeholder\": \"Please Enter your review here\"})\n",
    "\n",
    "\n",
    "\n",
    "# connect and run the python backend\n",
    "@app.route('/code', methods=['GET', 'POST'])\n",
    "def register():\n",
    "    form = RegisterForm(request.form)\n",
    "    if request.method == 'POST' and form.validate():\n",
    "        name = form.name.data\n",
    "        \n",
    "\n",
    "        # call the run function from the imported python file\n",
    "        out = imdb_classifier.run(name)\n",
    "        output=str(out)\n",
    "\n",
    "        return render_template(\"outputs/\"+output+'.html')\n",
    "    return render_template('code.html', form=form)\n",
    "\n",
    "#We not use dibagger --> doesn't print possible python errors (for production reasons)\n",
    "#in a production environment, you would want to set debug to False as to avoid any security issues.\n",
    "if __name__=='__main__':\n",
    "    app.run(debug=False)\n",
    "    "
   ]
  },
  {
   "cell_type": "code",
   "execution_count": null,
   "metadata": {},
   "outputs": [],
   "source": []
  }
 ],
 "metadata": {
  "kernelspec": {
   "display_name": "Python 3.6 (tensorflow)",
   "language": "python",
   "name": "tensorflow"
  },
  "language_info": {
   "codemirror_mode": {
    "name": "ipython",
    "version": 3
   },
   "file_extension": ".py",
   "mimetype": "text/x-python",
   "name": "python",
   "nbconvert_exporter": "python",
   "pygments_lexer": "ipython3",
   "version": "3.6.9"
  }
 },
 "nbformat": 4,
 "nbformat_minor": 2
}
