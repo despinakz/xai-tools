{
 "cells": [
  {
   "cell_type": "code",
   "execution_count": 2,
   "metadata": {},
   "outputs": [
    {
     "name": "stderr",
     "output_type": "stream",
     "text": [
      "Using TensorFlow backend.\n",
      "C:\\Users\\DespoinaK\\Miniconda3\\envs\\tensorflow\\lib\\site-packages\\tensorflow\\python\\framework\\dtypes.py:523: FutureWarning: Passing (type, 1) or '1type' as a synonym of type is deprecated; in a future version of numpy, it will be understood as (type, (1,)) / '(1,)type'.\n",
      "  _np_qint8 = np.dtype([(\"qint8\", np.int8, 1)])\n",
      "C:\\Users\\DespoinaK\\Miniconda3\\envs\\tensorflow\\lib\\site-packages\\tensorflow\\python\\framework\\dtypes.py:524: FutureWarning: Passing (type, 1) or '1type' as a synonym of type is deprecated; in a future version of numpy, it will be understood as (type, (1,)) / '(1,)type'.\n",
      "  _np_quint8 = np.dtype([(\"quint8\", np.uint8, 1)])\n",
      "C:\\Users\\DespoinaK\\Miniconda3\\envs\\tensorflow\\lib\\site-packages\\tensorflow\\python\\framework\\dtypes.py:525: FutureWarning: Passing (type, 1) or '1type' as a synonym of type is deprecated; in a future version of numpy, it will be understood as (type, (1,)) / '(1,)type'.\n",
      "  _np_qint16 = np.dtype([(\"qint16\", np.int16, 1)])\n",
      "C:\\Users\\DespoinaK\\Miniconda3\\envs\\tensorflow\\lib\\site-packages\\tensorflow\\python\\framework\\dtypes.py:526: FutureWarning: Passing (type, 1) or '1type' as a synonym of type is deprecated; in a future version of numpy, it will be understood as (type, (1,)) / '(1,)type'.\n",
      "  _np_quint16 = np.dtype([(\"quint16\", np.uint16, 1)])\n",
      "C:\\Users\\DespoinaK\\Miniconda3\\envs\\tensorflow\\lib\\site-packages\\tensorflow\\python\\framework\\dtypes.py:527: FutureWarning: Passing (type, 1) or '1type' as a synonym of type is deprecated; in a future version of numpy, it will be understood as (type, (1,)) / '(1,)type'.\n",
      "  _np_qint32 = np.dtype([(\"qint32\", np.int32, 1)])\n",
      "C:\\Users\\DespoinaK\\Miniconda3\\envs\\tensorflow\\lib\\site-packages\\tensorflow\\python\\framework\\dtypes.py:532: FutureWarning: Passing (type, 1) or '1type' as a synonym of type is deprecated; in a future version of numpy, it will be understood as (type, (1,)) / '(1,)type'.\n",
      "  np_resource = np.dtype([(\"resource\", np.ubyte, 1)])\n"
     ]
    },
    {
     "name": "stdout",
     "output_type": "stream",
     "text": [
      "Here is the shape of preprocessed dataset.\n"
     ]
    },
    {
     "data": {
      "text/plain": [
       "(50000, 2)"
      ]
     },
     "execution_count": 2,
     "metadata": {},
     "output_type": "execute_result"
    }
   ],
   "source": [
    "#IMDB Dataset Sentiment Analysis with NN\n",
    "\n",
    "# -------------------- 1) IMPORT REQUIRED LIBRARIES --------------------\n",
    "\n",
    "import pandas as pd\n",
    "import numpy as np\n",
    "from nltk.tokenize import word_tokenize \n",
    "from sklearn.feature_extraction.text import TfidfTransformer\n",
    "from sklearn.feature_extraction.text import TfidfVectorizer \n",
    "from sklearn.feature_extraction.text import CountVectorizer\n",
    "from sklearn.model_selection import train_test_split\n",
    "\n",
    "# Deep Learning modules\n",
    "#import numpy as np\n",
    "np.random.seed(1337) # for reproducibility\n",
    "from keras.models import Sequential\n",
    "from keras.layers.core import Dense, Dropout, Activation\n",
    "from keras.optimizers import Adadelta,Adam,RMSprop\n",
    "from keras.utils import np_utils\n",
    "\n",
    "\n",
    "\n",
    "\n",
    "# -------------------- 2) IMPORT AND ANALYZE THE PREPROCESSED DATASET --------------------\n",
    "#READ .xls FILE with preprocessed data\n",
    "movie_reviews = pd.read_excel(\"C:\\\\Users\\\\DespoinaK\\\\Desktop\\\\NN-Project\\\\preprocessedData.xls\")\n",
    "#%store movie_reviews\n",
    "#%store -r movie_reviews\n",
    "\n",
    "#check if there are null values or not in xls file\n",
    "movie_reviews.isnull().values.any()\n",
    "\n",
    "#print the shape of our dataset\n",
    "print(\"Here is the shape of preprocessed dataset.\")\n",
    "movie_reviews.shape\n",
    "\n",
    "\n",
    "\n"
   ]
  },
  {
   "cell_type": "code",
   "execution_count": 3,
   "metadata": {},
   "outputs": [
    {
     "name": "stdout",
     "output_type": "stream",
     "text": [
      "Take the first 10 rows of our preprocessed dataset.\n"
     ]
    },
    {
     "data": {
      "text/html": [
       "<div>\n",
       "<style scoped>\n",
       "    .dataframe tbody tr th:only-of-type {\n",
       "        vertical-align: middle;\n",
       "    }\n",
       "\n",
       "    .dataframe tbody tr th {\n",
       "        vertical-align: top;\n",
       "    }\n",
       "\n",
       "    .dataframe thead th {\n",
       "        text-align: right;\n",
       "    }\n",
       "</style>\n",
       "<table border=\"1\" class=\"dataframe\">\n",
       "  <thead>\n",
       "    <tr style=\"text-align: right;\">\n",
       "      <th></th>\n",
       "      <th>review</th>\n",
       "      <th>sentiment</th>\n",
       "    </tr>\n",
       "  </thead>\n",
       "  <tbody>\n",
       "    <tr>\n",
       "      <th>0</th>\n",
       "      <td>one reviewer mention watch oz episode hooked r...</td>\n",
       "      <td>positive</td>\n",
       "    </tr>\n",
       "    <tr>\n",
       "      <th>1</th>\n",
       "      <td>wonderful little production film technique una...</td>\n",
       "      <td>positive</td>\n",
       "    </tr>\n",
       "    <tr>\n",
       "      <th>2</th>\n",
       "      <td>thought wonderful way spend time hot summer we...</td>\n",
       "      <td>positive</td>\n",
       "    </tr>\n",
       "    <tr>\n",
       "      <th>3</th>\n",
       "      <td>basically family little boy jake think zombie ...</td>\n",
       "      <td>negative</td>\n",
       "    </tr>\n",
       "    <tr>\n",
       "      <th>4</th>\n",
       "      <td>petter mattei love time money visually stun fi...</td>\n",
       "      <td>positive</td>\n",
       "    </tr>\n",
       "    <tr>\n",
       "      <th>5</th>\n",
       "      <td>probably time favorite movie story selflessnes...</td>\n",
       "      <td>positive</td>\n",
       "    </tr>\n",
       "    <tr>\n",
       "      <th>6</th>\n",
       "      <td>sure would like see resurrection date seahunt ...</td>\n",
       "      <td>positive</td>\n",
       "    </tr>\n",
       "    <tr>\n",
       "      <th>7</th>\n",
       "      <td>show amaze fresh innovative idea first air fir...</td>\n",
       "      <td>negative</td>\n",
       "    </tr>\n",
       "    <tr>\n",
       "      <th>8</th>\n",
       "      <td>encourage positive comment film look forward w...</td>\n",
       "      <td>negative</td>\n",
       "    </tr>\n",
       "    <tr>\n",
       "      <th>9</th>\n",
       "      <td>like original gut wrench laughter like movie y...</td>\n",
       "      <td>positive</td>\n",
       "    </tr>\n",
       "  </tbody>\n",
       "</table>\n",
       "</div>"
      ],
      "text/plain": [
       "                                              review sentiment\n",
       "0  one reviewer mention watch oz episode hooked r...  positive\n",
       "1  wonderful little production film technique una...  positive\n",
       "2  thought wonderful way spend time hot summer we...  positive\n",
       "3  basically family little boy jake think zombie ...  negative\n",
       "4  petter mattei love time money visually stun fi...  positive\n",
       "5  probably time favorite movie story selflessnes...  positive\n",
       "6  sure would like see resurrection date seahunt ...  positive\n",
       "7  show amaze fresh innovative idea first air fir...  negative\n",
       "8  encourage positive comment film look forward w...  negative\n",
       "9  like original gut wrench laughter like movie y...  positive"
      ]
     },
     "execution_count": 3,
     "metadata": {},
     "output_type": "execute_result"
    }
   ],
   "source": [
    "#show the first 10 rows from dataset\n",
    "print(\"Take the first 10 rows of our preprocessed dataset.\")\n",
    "movie_reviews.head(10)"
   ]
  },
  {
   "cell_type": "code",
   "execution_count": 4,
   "metadata": {},
   "outputs": [],
   "source": [
    "X = movie_reviews['review']\n",
    "\n",
    "y = movie_reviews['sentiment']\n",
    "y = np.array(list(map(lambda x: 1 if x==\"positive\" else 0, y)))"
   ]
  },
  {
   "cell_type": "code",
   "execution_count": 5,
   "metadata": {},
   "outputs": [],
   "source": [
    "#Split dataset: 80% -->training, 20% -->testing\n",
    "X_train, X_test, y_train, y_test = train_test_split(X, y, test_size=0.20, random_state=42)\n"
   ]
  },
  {
   "cell_type": "code",
   "execution_count": 6,
   "metadata": {},
   "outputs": [],
   "source": [
    "# -------------------- 3) DATA PREPROCESSING Part 2 --------------------\n",
    "\n",
    "# -------------------- 3.7) TFIDF(VECTORIZATION) --------------------\n",
    "\n",
    "# settings that you use for count vectorizer will go here\n",
    "tfidf_vectorizer=TfidfVectorizer(use_idf=True)\n",
    "\n",
    "# just send in all your docs here\n",
    "tfidf_vectorizer_vectors_XTrain=tfidf_vectorizer.fit_transform(X_train)\n",
    "\n",
    "tfidf_vectorizer_vectors_XTest=tfidf_vectorizer.transform(X_test)"
   ]
  },
  {
   "cell_type": "code",
   "execution_count": 7,
   "metadata": {},
   "outputs": [
    {
     "data": {
      "text/plain": [
       "75185"
      ]
     },
     "execution_count": 7,
     "metadata": {},
     "output_type": "execute_result"
    }
   ],
   "source": [
    "#tfidf_vectorizer_vectors_XTrain.shape[1] --> Output 75185\n",
    "tfidf_vectorizer_vectors_XTrain\n",
    "features = tfidf_vectorizer_vectors_XTrain.shape[1]\n",
    "features"
   ]
  },
  {
   "cell_type": "code",
   "execution_count": 8,
   "metadata": {},
   "outputs": [
    {
     "data": {
      "text/plain": [
       "<10000x75185 sparse matrix of type '<class 'numpy.float64'>'\n",
       "\twith 939488 stored elements in Compressed Sparse Row format>"
      ]
     },
     "execution_count": 8,
     "metadata": {},
     "output_type": "execute_result"
    }
   ],
   "source": [
    "tfidf_vectorizer_vectors_XTest"
   ]
  },
  {
   "cell_type": "code",
   "execution_count": 9,
   "metadata": {},
   "outputs": [
    {
     "data": {
      "text/html": [
       "<div>\n",
       "<style scoped>\n",
       "    .dataframe tbody tr th:only-of-type {\n",
       "        vertical-align: middle;\n",
       "    }\n",
       "\n",
       "    .dataframe tbody tr th {\n",
       "        vertical-align: top;\n",
       "    }\n",
       "\n",
       "    .dataframe thead th {\n",
       "        text-align: right;\n",
       "    }\n",
       "</style>\n",
       "<table border=\"1\" class=\"dataframe\">\n",
       "  <thead>\n",
       "    <tr style=\"text-align: right;\">\n",
       "      <th></th>\n",
       "      <th>tfidf</th>\n",
       "    </tr>\n",
       "  </thead>\n",
       "  <tbody>\n",
       "    <tr>\n",
       "      <th>samina</th>\n",
       "      <td>0.141071</td>\n",
       "    </tr>\n",
       "    <tr>\n",
       "      <th>awan</th>\n",
       "      <td>0.141071</td>\n",
       "    </tr>\n",
       "    <tr>\n",
       "      <th>nichola</th>\n",
       "      <td>0.141071</td>\n",
       "    </tr>\n",
       "    <tr>\n",
       "      <th>zakir</th>\n",
       "      <td>0.135825</td>\n",
       "    </tr>\n",
       "    <tr>\n",
       "      <th>wasim</th>\n",
       "      <td>0.135825</td>\n",
       "    </tr>\n",
       "    <tr>\n",
       "      <th>...</th>\n",
       "      <td>...</td>\n",
       "    </tr>\n",
       "    <tr>\n",
       "      <th>frothy</th>\n",
       "      <td>0.000000</td>\n",
       "    </tr>\n",
       "    <tr>\n",
       "      <th>froth</th>\n",
       "      <td>0.000000</td>\n",
       "    </tr>\n",
       "    <tr>\n",
       "      <th>frosty</th>\n",
       "      <td>0.000000</td>\n",
       "    </tr>\n",
       "    <tr>\n",
       "      <th>frostbitten</th>\n",
       "      <td>0.000000</td>\n",
       "    </tr>\n",
       "    <tr>\n",
       "      <th>zzzzzzzzzzzzzzzzzzzzzzzzzzzzzzzzzzzzzzzzzzzz</th>\n",
       "      <td>0.000000</td>\n",
       "    </tr>\n",
       "  </tbody>\n",
       "</table>\n",
       "<p>75185 rows × 1 columns</p>\n",
       "</div>"
      ],
      "text/plain": [
       "                                                 tfidf\n",
       "samina                                        0.141071\n",
       "awan                                          0.141071\n",
       "nichola                                       0.141071\n",
       "zakir                                         0.135825\n",
       "wasim                                         0.135825\n",
       "...                                                ...\n",
       "frothy                                        0.000000\n",
       "froth                                         0.000000\n",
       "frosty                                        0.000000\n",
       "frostbitten                                   0.000000\n",
       "zzzzzzzzzzzzzzzzzzzzzzzzzzzzzzzzzzzzzzzzzzzz  0.000000\n",
       "\n",
       "[75185 rows x 1 columns]"
      ]
     },
     "execution_count": 9,
     "metadata": {},
     "output_type": "execute_result"
    }
   ],
   "source": [
    "# get the first vector out (for the first document)\n",
    "first_vector_tfidfvectorizer=tfidf_vectorizer_vectors_XTrain[0]\n",
    " \n",
    "# place tf-idf values in a pandas data frame\n",
    "df = pd.DataFrame(first_vector_tfidfvectorizer.T.todense(), index=tfidf_vectorizer.get_feature_names(), columns=[\"tfidf\"])\n",
    "df.sort_values(by=[\"tfidf\"],ascending=False)"
   ]
  },
  {
   "cell_type": "code",
   "execution_count": 10,
   "metadata": {},
   "outputs": [
    {
     "name": "stdout",
     "output_type": "stream",
     "text": [
      "_________________________________________________________________\n",
      "Layer (type)                 Output Shape              Param #   \n",
      "=================================================================\n",
      "dense_1 (Dense)              (None, 16)                1202976   \n",
      "_________________________________________________________________\n",
      "activation_1 (Activation)    (None, 16)                0         \n",
      "_________________________________________________________________\n",
      "dense_2 (Dense)              (None, 16)                272       \n",
      "_________________________________________________________________\n",
      "activation_2 (Activation)    (None, 16)                0         \n",
      "_________________________________________________________________\n",
      "dense_3 (Dense)              (None, 1)                 17        \n",
      "_________________________________________________________________\n",
      "activation_3 (Activation)    (None, 1)                 0         \n",
      "=================================================================\n",
      "Total params: 1,203,265\n",
      "Trainable params: 1,203,265\n",
      "Non-trainable params: 0\n",
      "_________________________________________________________________\n",
      "None\n"
     ]
    }
   ],
   "source": [
    "# -------------------- 4) Create and Training Neural Network --------------------\n",
    "#Simple Dense Network\n",
    "\n",
    "# --- CREATE MODEL---\n",
    "\n",
    "# Definition hyper parameters\n",
    "#np.random.seed(1337)\n",
    "\n",
    "#how many different categories we have\n",
    "numOfClasses = 1 \n",
    "\n",
    "#each time we take n samples to train the network\n",
    "batchSize = 512 #500\n",
    "\n",
    "#how many times we have to get forward and backward\n",
    "numOfEpochs = 13 #15\n",
    "\n",
    "#specifies to keras that we are creating model sequentially and the output of each layer we add is input \n",
    "#to the next layer we specify\n",
    "model = Sequential()\n",
    "\n",
    "# Hidden Layer 1\n",
    "model.add(Dense(16,input_shape= (features,)))\n",
    "model.add(Activation('sigmoid'))\n",
    "#model.add(Dropout(0.2))\n",
    "\n",
    "# Hidden Layer 2\n",
    "model.add(Dense(16))\n",
    "model.add(Activation('sigmoid'))\n",
    "#model.add(Dropout(0.2))\n",
    "\n",
    "# Hidden Layer 2\n",
    "#model.add(Dense(50))\n",
    "#model.add(Activation('sigmoid'))\n",
    "#model.add(Dropout(0.2))\n",
    "\n",
    "# Output Layer \n",
    "model.add(Dense(numOfClasses))\n",
    "model.add(Activation('sigmoid'))\n",
    "\n",
    "model.compile(loss='binary_crossentropy', optimizer='adam', metrics = [\"accuracy\"])\n",
    "print (model.summary())\n",
    "\n"
   ]
  },
  {
   "cell_type": "code",
   "execution_count": 11,
   "metadata": {
    "scrolled": true
   },
   "outputs": [
    {
     "name": "stdout",
     "output_type": "stream",
     "text": [
      "Train on 40000 samples, validate on 10000 samples\n",
      "Epoch 1/13\n",
      "40000/40000 [==============================] - 65s 2ms/step - loss: 0.7018 - acc: 0.5441 - val_loss: 0.6867 - val_acc: 0.7690\n",
      "Epoch 2/13\n",
      "40000/40000 [==============================] - 60s 2ms/step - loss: 0.6802 - acc: 0.8342 - val_loss: 0.6723 - val_acc: 0.8470\n",
      "Epoch 3/13\n",
      "40000/40000 [==============================] - 55s 1ms/step - loss: 0.6549 - acc: 0.8516 - val_loss: 0.6347 - val_acc: 0.8470\n",
      "Epoch 4/13\n",
      "40000/40000 [==============================] - 55s 1ms/step - loss: 0.5946 - acc: 0.8682 - val_loss: 0.5570 - val_acc: 0.8511\n",
      "Epoch 5/13\n",
      "40000/40000 [==============================] - 54s 1ms/step - loss: 0.4944 - acc: 0.8759 - val_loss: 0.4558 - val_acc: 0.8615\n",
      "Epoch 6/13\n",
      "40000/40000 [==============================] - 55s 1ms/step - loss: 0.3878 - acc: 0.8913 - val_loss: 0.3727 - val_acc: 0.8712\n",
      "Epoch 7/13\n",
      "40000/40000 [==============================] - 56s 1ms/step - loss: 0.3073 - acc: 0.9061 - val_loss: 0.3196 - val_acc: 0.8792\n",
      "Epoch 8/13\n",
      "40000/40000 [==============================] - 56s 1ms/step - loss: 0.2528 - acc: 0.9199 - val_loss: 0.2873 - val_acc: 0.8860\n",
      "Epoch 9/13\n",
      "40000/40000 [==============================] - 55s 1ms/step - loss: 0.2147 - acc: 0.9314 - val_loss: 0.2673 - val_acc: 0.8899\n",
      "Epoch 10/13\n",
      "40000/40000 [==============================] - 59s 1ms/step - loss: 0.1866 - acc: 0.9404 - val_loss: 0.2547 - val_acc: 0.8931\n",
      "Epoch 11/13\n",
      "40000/40000 [==============================] - 57s 1ms/step - loss: 0.1650 - acc: 0.9476 - val_loss: 0.2467 - val_acc: 0.8961\n",
      "Epoch 12/13\n",
      "40000/40000 [==============================] - 56s 1ms/step - loss: 0.1475 - acc: 0.9539 - val_loss: 0.2421 - val_acc: 0.8963\n",
      "Epoch 13/13\n",
      "40000/40000 [==============================] - 55s 1ms/step - loss: 0.1327 - acc: 0.9588 - val_loss: 0.2399 - val_acc: 0.8971\n"
     ]
    }
   ],
   "source": [
    "results = model.fit(tfidf_vectorizer_vectors_XTrain, y_train, batch_size=batchSize, epochs=numOfEpochs, validation_data = (tfidf_vectorizer_vectors_XTest,y_test))"
   ]
  },
  {
   "cell_type": "code",
   "execution_count": 12,
   "metadata": {},
   "outputs": [
    {
     "name": "stdout",
     "output_type": "stream",
     "text": [
      "Test Accuracy:  0.8680384617732122\n"
     ]
    }
   ],
   "source": [
    "print(\"Test Accuracy: \", np.mean(results.history[\"val_acc\"]))\n"
   ]
  },
  {
   "cell_type": "code",
   "execution_count": 13,
   "metadata": {},
   "outputs": [
    {
     "data": {
      "image/png": "[encoded data removed]",
      "text/plain": [
       "<Figure size 432x288 with 1 Axes>"
      ]
     },
     "metadata": {
      "needs_background": "light"
     },
     "output_type": "display_data"
    }
   ],
   "source": [
    "import matplotlib.pyplot as plt\n",
    "# Plot training & validation accuracy values\n",
    "plt.plot(results.history['acc'])\n",
    "plt.plot(results.history['val_acc'])\n",
    "plt.title('Model accuracy')\n",
    "plt.ylabel('Accuracy')\n",
    "plt.xlabel('Epoch')\n",
    "plt.legend(['Train', 'Test'], loc='upper left')\n",
    "#plt.savefig('C:\\\\Users\\\\DespoinaK\\\\Desktop\\\\acc.png')\n",
    "plt.show()\n",
    "\n"
   ]
  },
  {
   "cell_type": "code",
   "execution_count": 14,
   "metadata": {},
   "outputs": [
    {
     "data": {
      "image/png": "[encoded data removed]",
      "text/plain": [
       "<Figure size 432x288 with 1 Axes>"
      ]
     },
     "metadata": {
      "needs_background": "light"
     },
     "output_type": "display_data"
    }
   ],
   "source": [
    "# Plot training & validation loss values\n",
    "plt.plot(results.history['loss'])\n",
    "plt.plot(results.history['val_loss'])\n",
    "plt.title('Model loss')\n",
    "plt.ylabel('Loss')\n",
    "plt.xlabel('Epoch')\n",
    "plt.legend(['Train', 'Test'], loc='upper right')\n",
    "#plt.savefig('C:\\\\Users\\\\DespoinaK\\\\Desktop\\\\loss.png')\n",
    "plt.show()\n"
   ]
  },
  {
   "cell_type": "code",
   "execution_count": 15,
   "metadata": {},
   "outputs": [],
   "source": [
    "model.save('C:\\\\Users\\\\DespoinaK\\\\Desktop\\\\NN-Project\\\\my_model.h5') \n"
   ]
  },
  {
   "cell_type": "code",
   "execution_count": null,
   "metadata": {},
   "outputs": [],
   "source": []
  }
 ],
 "metadata": {
  "kernelspec": {
   "display_name": "Python 3.6 (tensorflow)",
   "language": "python",
   "name": "tensorflow"
  },
  "language_info": {
   "codemirror_mode": {
    "name": "ipython",
    "version": 3
   },
   "file_extension": ".py",
   "mimetype": "text/x-python",
   "name": "python",
   "nbconvert_exporter": "python",
   "pygments_lexer": "ipython3",
   "version": "3.6.9"
  }
 },
 "nbformat": 4,
 "nbformat_minor": 2
}
