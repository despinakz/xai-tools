{
 "cells": [
  {
   "cell_type": "code",
   "execution_count": 1,
   "metadata": {},
   "outputs": [
    {
     "name": "stderr",
     "output_type": "stream",
     "text": [
      "[nltk_data] Downloading package punkt to\n",
      "[nltk_data]     C:\\Users\\DespoinaK\\AppData\\Roaming\\nltk_data...\n",
      "[nltk_data]   Package punkt is already up-to-date!\n",
      "[nltk_data] Downloading package wordnet to\n",
      "[nltk_data]     C:\\Users\\DespoinaK\\AppData\\Roaming\\nltk_data...\n",
      "[nltk_data]   Package wordnet is already up-to-date!\n",
      "Using TensorFlow backend.\n",
      "C:\\Users\\DespoinaK\\Miniconda3\\envs\\tensorflow\\lib\\site-packages\\tensorflow\\python\\framework\\dtypes.py:523: FutureWarning: Passing (type, 1) or '1type' as a synonym of type is deprecated; in a future version of numpy, it will be understood as (type, (1,)) / '(1,)type'.\n",
      "  _np_qint8 = np.dtype([(\"qint8\", np.int8, 1)])\n",
      "C:\\Users\\DespoinaK\\Miniconda3\\envs\\tensorflow\\lib\\site-packages\\tensorflow\\python\\framework\\dtypes.py:524: FutureWarning: Passing (type, 1) or '1type' as a synonym of type is deprecated; in a future version of numpy, it will be understood as (type, (1,)) / '(1,)type'.\n",
      "  _np_quint8 = np.dtype([(\"quint8\", np.uint8, 1)])\n",
      "C:\\Users\\DespoinaK\\Miniconda3\\envs\\tensorflow\\lib\\site-packages\\tensorflow\\python\\framework\\dtypes.py:525: FutureWarning: Passing (type, 1) or '1type' as a synonym of type is deprecated; in a future version of numpy, it will be understood as (type, (1,)) / '(1,)type'.\n",
      "  _np_qint16 = np.dtype([(\"qint16\", np.int16, 1)])\n",
      "C:\\Users\\DespoinaK\\Miniconda3\\envs\\tensorflow\\lib\\site-packages\\tensorflow\\python\\framework\\dtypes.py:526: FutureWarning: Passing (type, 1) or '1type' as a synonym of type is deprecated; in a future version of numpy, it will be understood as (type, (1,)) / '(1,)type'.\n",
      "  _np_quint16 = np.dtype([(\"quint16\", np.uint16, 1)])\n",
      "C:\\Users\\DespoinaK\\Miniconda3\\envs\\tensorflow\\lib\\site-packages\\tensorflow\\python\\framework\\dtypes.py:527: FutureWarning: Passing (type, 1) or '1type' as a synonym of type is deprecated; in a future version of numpy, it will be understood as (type, (1,)) / '(1,)type'.\n",
      "  _np_qint32 = np.dtype([(\"qint32\", np.int32, 1)])\n",
      "C:\\Users\\DespoinaK\\Miniconda3\\envs\\tensorflow\\lib\\site-packages\\tensorflow\\python\\framework\\dtypes.py:532: FutureWarning: Passing (type, 1) or '1type' as a synonym of type is deprecated; in a future version of numpy, it will be understood as (type, (1,)) / '(1,)type'.\n",
      "  np_resource = np.dtype([(\"resource\", np.ubyte, 1)])\n"
     ]
    },
    {
     "name": "stdout",
     "output_type": "stream",
     "text": [
      "Here is the shape of dataset.\n"
     ]
    },
    {
     "data": {
      "text/plain": [
       "(50000, 2)"
      ]
     },
     "execution_count": 1,
     "metadata": {},
     "output_type": "execute_result"
    }
   ],
   "source": [
    "#IMDB Dataset Sentiment Analysis with NN\n",
    "\n",
    "# -------------------- 1) IMPORT REQUIRED LIBRARIES --------------------\n",
    "\n",
    "import pandas as pd\n",
    "import numpy as np\n",
    "import re\n",
    "import nltk\n",
    "nltk.download('punkt')\n",
    "from nltk.corpus import stopwords\n",
    "from nltk.tokenize.treebank import TreebankWordDetokenizer\n",
    "from nltk.tokenize import word_tokenize \n",
    "nltk.download('wordnet')\n",
    "from nltk.stem import WordNetLemmatizer\n",
    "\n",
    "\n",
    "from numpy import array\n",
    "from keras.preprocessing.text import one_hot\n",
    "from keras.preprocessing.sequence import pad_sequences\n",
    "from keras.models import Sequential\n",
    "from keras.layers.core import Activation, Dropout, Dense\n",
    "from keras.layers import Flatten\n",
    "from keras.layers import GlobalMaxPooling1D\n",
    "from keras.layers.embeddings import Embedding\n",
    "from sklearn.model_selection import train_test_split\n",
    "from keras.preprocessing.text import Tokenizer\n",
    "\n",
    "import xlwt\n",
    "\n",
    "# -------------------- 2) IMPORT AND ANALYZE THE DATASET --------------------\n",
    "\n",
    "#read the csv file using the read_csv function from pd library\n",
    "movie_reviews = pd.read_csv(\"C:\\\\Users\\\\DespoinaK\\\\Desktop\\\\NN-Project\\\\IMDB Dataset.csv\")\n",
    "\n",
    "#check if there are null values or not in csv file\n",
    "movie_reviews.isnull().values.any()\n",
    "\n",
    "#print the shape of our dataset\n",
    "print(\"Here is the shape of dataset.\")\n",
    "movie_reviews.shape\n"
   ]
  },
  {
   "cell_type": "code",
   "execution_count": 2,
   "metadata": {},
   "outputs": [
    {
     "name": "stdout",
     "output_type": "stream",
     "text": [
      "Take the first 8 rows of our dataset.\n"
     ]
    },
    {
     "data": {
      "text/html": [
       "<div>\n",
       "<style scoped>\n",
       "    .dataframe tbody tr th:only-of-type {\n",
       "        vertical-align: middle;\n",
       "    }\n",
       "\n",
       "    .dataframe tbody tr th {\n",
       "        vertical-align: top;\n",
       "    }\n",
       "\n",
       "    .dataframe thead th {\n",
       "        text-align: right;\n",
       "    }\n",
       "</style>\n",
       "<table border=\"1\" class=\"dataframe\">\n",
       "  <thead>\n",
       "    <tr style=\"text-align: right;\">\n",
       "      <th></th>\n",
       "      <th>review</th>\n",
       "      <th>sentiment</th>\n",
       "    </tr>\n",
       "  </thead>\n",
       "  <tbody>\n",
       "    <tr>\n",
       "      <th>0</th>\n",
       "      <td>One of the other reviewers has mentioned that ...</td>\n",
       "      <td>positive</td>\n",
       "    </tr>\n",
       "    <tr>\n",
       "      <th>1</th>\n",
       "      <td>A wonderful little production. &lt;br /&gt;&lt;br /&gt;The...</td>\n",
       "      <td>positive</td>\n",
       "    </tr>\n",
       "    <tr>\n",
       "      <th>2</th>\n",
       "      <td>I thought this was a wonderful way to spend ti...</td>\n",
       "      <td>positive</td>\n",
       "    </tr>\n",
       "    <tr>\n",
       "      <th>3</th>\n",
       "      <td>Basically there's a family where a little boy ...</td>\n",
       "      <td>negative</td>\n",
       "    </tr>\n",
       "    <tr>\n",
       "      <th>4</th>\n",
       "      <td>Petter Mattei's \"Love in the Time of Money\" is...</td>\n",
       "      <td>positive</td>\n",
       "    </tr>\n",
       "    <tr>\n",
       "      <th>5</th>\n",
       "      <td>Probably my all-time favorite movie, a story o...</td>\n",
       "      <td>positive</td>\n",
       "    </tr>\n",
       "    <tr>\n",
       "      <th>6</th>\n",
       "      <td>I sure would like to see a resurrection of a u...</td>\n",
       "      <td>positive</td>\n",
       "    </tr>\n",
       "    <tr>\n",
       "      <th>7</th>\n",
       "      <td>This show was an amazing, fresh &amp; innovative i...</td>\n",
       "      <td>negative</td>\n",
       "    </tr>\n",
       "  </tbody>\n",
       "</table>\n",
       "</div>"
      ],
      "text/plain": [
       "                                              review sentiment\n",
       "0  One of the other reviewers has mentioned that ...  positive\n",
       "1  A wonderful little production. <br /><br />The...  positive\n",
       "2  I thought this was a wonderful way to spend ti...  positive\n",
       "3  Basically there's a family where a little boy ...  negative\n",
       "4  Petter Mattei's \"Love in the Time of Money\" is...  positive\n",
       "5  Probably my all-time favorite movie, a story o...  positive\n",
       "6  I sure would like to see a resurrection of a u...  positive\n",
       "7  This show was an amazing, fresh & innovative i...  negative"
      ]
     },
     "execution_count": 2,
     "metadata": {},
     "output_type": "execute_result"
    }
   ],
   "source": [
    "#show the first 8 rows from dataset\n",
    "print(\"Take the first 8 rows of our dataset.\")\n",
    "movie_reviews.head(8)\n"
   ]
  },
  {
   "cell_type": "code",
   "execution_count": 3,
   "metadata": {},
   "outputs": [
    {
     "name": "stdout",
     "output_type": "stream",
     "text": [
      "Here is the 8th review of the dataset.\n",
      " We see that our text contains punctuations, brackets, and a few HTML tags as well.\n"
     ]
    },
    {
     "data": {
      "text/plain": [
       "\"This show was an amazing, fresh & innovative idea in the 70's when it first aired. The first 7 or 8 years were brilliant, but things dropped off after that. By 1990, the show was not really funny anymore, and it's continued its decline further to the complete waste of time it is today.<br /><br />It's truly disgraceful how far this show has fallen. The writing is painfully bad, the performances are almost as bad - if not for the mildly entertaining respite of the guest-hosts, this show probably wouldn't still be on the air. I find it so hard to believe that the same creator that hand-selected the original cast also chose the band of hacks that followed. How can one recognize such brilliance and then see fit to replace it with such mediocrity? I felt I must give 2 stars out of respect for the original cast that made this show such a huge success. As it is now, the show is just awful. I can't believe it's still on the air.\""
      ]
     },
     "execution_count": 3,
     "metadata": {},
     "output_type": "execute_result"
    }
   ],
   "source": [
    "#take and show the 8th review of our dataset \n",
    "# - We can see that our text contains punctuations, brackets, and a few HTML tags as well. We will preprocess this text in the section (3) below.\n",
    "print(\"Here is the 8th review of the dataset.\\n We see that our text contains punctuations, brackets, and a few HTML tags as well.\")\n",
    "movie_reviews[\"review\"][7]\n",
    "\n"
   ]
  },
  {
   "cell_type": "code",
   "execution_count": 4,
   "metadata": {},
   "outputs": [
    {
     "name": "stdout",
     "output_type": "stream",
     "text": [
      "Distribution of positive and negative sentiments in dataset.\n"
     ]
    },
    {
     "data": {
      "text/plain": [
       "<matplotlib.axes._subplots.AxesSubplot at 0x255c8e7ba8>"
      ]
     },
     "execution_count": 4,
     "metadata": {},
     "output_type": "execute_result"
    },
    {
     "data": {
      "image/png": "[encoded data removed]",
      "text/plain": [
       "<Figure size 432x288 with 1 Axes>"
      ]
     },
     "metadata": {
      "needs_background": "light"
     },
     "output_type": "display_data"
    }
   ],
   "source": [
    "#distribution of positive and negative sentiments in our dataset - we see that 25K-Positive and 25K-Negative\n",
    "import seaborn as sns\n",
    "print(\"Distribution of positive and negative sentiments in dataset.\")\n",
    "sns.countplot(x='sentiment', data=movie_reviews)\n"
   ]
  },
  {
   "cell_type": "code",
   "execution_count": 5,
   "metadata": {},
   "outputs": [
    {
     "name": "stdout",
     "output_type": "stream",
     "text": [
      "Let's now again see the 8th review\n",
      "Before Preprocessing\n"
     ]
    },
    {
     "data": {
      "text/plain": [
       "\"This show was an amazing, fresh & innovative idea in the 70's when it first aired. The first 7 or 8 years were brilliant, but things dropped off after that. By 1990, the show was not really funny anymore, and it's continued its decline further to the complete waste of time it is today.<br /><br />It's truly disgraceful how far this show has fallen. The writing is painfully bad, the performances are almost as bad - if not for the mildly entertaining respite of the guest-hosts, this show probably wouldn't still be on the air. I find it so hard to believe that the same creator that hand-selected the original cast also chose the band of hacks that followed. How can one recognize such brilliance and then see fit to replace it with such mediocrity? I felt I must give 2 stars out of respect for the original cast that made this show such a huge success. As it is now, the show is just awful. I can't believe it's still on the air.\""
      ]
     },
     "execution_count": 5,
     "metadata": {},
     "output_type": "execute_result"
    }
   ],
   "source": [
    "# -------------------- 3) DATA PREPROCESSING --------------------\n",
    "\n",
    "\n",
    "# We saw that our dataset contained punctuations and HTML tags. \n",
    "# In this section we will define a function that takes a text string as a parameter \n",
    "# and then performs preprocessing on the string to remove special characters and HTML tags from the string. \n",
    "# Finally, the string is returned to the calling function.\n",
    "\n",
    "\n",
    "def preprocess_text(sen):\n",
    "    # -------------------- 3.1) REMOVE HTML TAGS --------------------\n",
    "    #remove_tags function: simply replaces anything between opening and closing <> with an empty space\n",
    "    clean = re.compile('<.*?>')\n",
    "    sentence = re.sub(clean, ' ', sen)\n",
    "\n",
    "    # -------------------- 3.2) REMOVE PUNCTUATIONS AND NUMBERS --------------------\n",
    "    # Especially everything is removed except capital and small English letters, which results in single characters that make no sense. \n",
    "    # For instance, when you remove apostrophe from the word \"Mark's\", the apostrophe is replaced by an empty space. \n",
    "    # Hence, we are left with single character \"s\".'''\n",
    "    \n",
    "    word1 = \"can't\" #it's a special exception because when we cut the apostrophe, then the can't --> can that we don't want it\n",
    "    word2 = \"won't\" #it's a special exception because when we cut the apostrophe, then the won't --> won that we don't want it\n",
    "    \n",
    "    if word1 in sentence:\n",
    "        sentence = sentence.replace(word1,\"can not\")\n",
    "    \n",
    "    if word2 in sen:\n",
    "        sentence = sentence.replace(word2,\"will not\")\n",
    "    \n",
    "    sentence = re.sub('[^a-zA-Z]', ' ', sentence) #remove punctuations and numbers\n",
    "    \n",
    "    \n",
    "    # -------------------- 3.3) SINGLE CHARACTER REMOVAL --------------------\n",
    "    #remove all the single characters and replace it by a space which creates multiple spaces in our text\n",
    "    sentence = re.sub(r\"\\s+[a-zA-Z]\\s+\", ' ', sentence)\n",
    "\n",
    "    # -------------------- 3.4) REMOVE MULTIPLE SPACES --------------------\n",
    "    sentence = re.sub(r'\\s+', ' ', sentence)\n",
    "    \n",
    "    # -------------------- 3.5) CONVERT TO LOWERCASE --------------------\n",
    "    sentence = sentence.lower()\n",
    "    \n",
    "    #-----------------------------------------------------------\n",
    "    negations = {    'aren':'are not', \n",
    "                     'hasn':'has not',\n",
    "                     'wasn':'was not',\n",
    "                  '  doesn':'does not',\n",
    "                  'shouldn':'should not',\n",
    "                     'didn':'did not',\n",
    "                    'mustn':'must not',\n",
    "                     'hadn':'had not',\n",
    "                    'weren':'were not',\n",
    "                     'shan':'shall not',\n",
    "                    'needn':'need not',\n",
    "                   'wouldn':'would not',\n",
    "                      'don':'do not',\n",
    "                      'ain':'is not',\n",
    "                    'haven':'have not',\n",
    "                      'isn':'is not',\n",
    "                   'mightn':'might not',\n",
    "                   'couldn':'could not' }\n",
    "    \n",
    "    #replace only the whole word and NOT the part of the word (e.g aren --> are not BUT arena --> arena)\n",
    "    sentence = ' '.join(negations[i] if i in negations else i for i in sentence.split())\n",
    "    \n",
    "    # -------------------- 3.5) STOP-WORDS REMOVAL --------------------\n",
    "    #stop_words = set(stopwords.words('english'))\n",
    "    stop_words = set(stopwords.words('english')) - set(['no','nor','any','few','not'])\n",
    "    word_tokens = word_tokenize(sentence)\n",
    "    filtered_sentence = [w for w in word_tokens if not w in stop_words] \n",
    "    filtered_sentence = [] \n",
    "  \n",
    "    for w in word_tokens: \n",
    "        if w not in stop_words: \n",
    "            filtered_sentence.append(w)\n",
    "\n",
    "    sentence = TreebankWordDetokenizer().detokenize(filtered_sentence)\n",
    "    \n",
    "    # -------------------- 3.6) STEMMING or LEMMATIZATION or BOTH???? --------------------\n",
    "    #Let's trying the lemmatization approach as it is more accurate \n",
    "    # 1. Init Lemmatizer\n",
    "    lemmatizer = WordNetLemmatizer()  \n",
    "\n",
    "    sentence = word_tokenize(sentence)\n",
    "    #print(sen)\n",
    "    filteredSen = [] \n",
    "    for i in sentence:\n",
    "        wordnetPOS = get_wordnet_pos(i)\n",
    "        #print (wordnetPOS)\n",
    "\n",
    "        # 2. Lemmatize Single Word with the appropriate POS tag\n",
    "        lemma = lemmatizer.lemmatize(i,wordnetPOS)\n",
    "        #print(\"lemma of \"+i+\" is: \"+lemma)\n",
    "        i = i.replace(i,lemma)\n",
    "        filteredSen.append(i)\n",
    " \n",
    "        sentence = TreebankWordDetokenizer().detokenize(filteredSen)      \n",
    "        #print(sen)\n",
    "    \n",
    "    return sentence\n",
    "\n",
    "def get_wordnet_pos(word):\n",
    "    \n",
    "    tag_dict = {   'NN':'n',\n",
    "                  'NNS':'n',\n",
    "                  'NNP':'n',\n",
    "                 'NNPS':'n',\n",
    "                   'JJ':'a',\n",
    "                  'JJR':'a',\n",
    "                  'JJS':'a',\n",
    "                   'RB':'r',\n",
    "                  'RBR':'r',\n",
    "                  'RBS':'r',\n",
    "                  'VB':'v',\n",
    "                  'VBD':'v',\n",
    "                  'VBG':'v',\n",
    "                  'VBN':'v',\n",
    "                  'VBP':'v',\n",
    "                  'VBZ':'v'}\n",
    "    \n",
    "    \n",
    "    wordPOS = nltk.pos_tag([word])\n",
    "    #print (wordPOS[0][0],wordPOS[0][1])\n",
    "    tag = wordPOS[0][1]\n",
    "    \n",
    "    if tag in tag_dict:  \n",
    "        return tag_dict.get(tag)\n",
    "    else:\n",
    "        return 'n'\n",
    "\n",
    "    \n",
    "    \n",
    "# Now we will preprocess our reviews and will store them in a new list\n",
    "X = [] #creates X array (empty)\n",
    "sentences = list(movie_reviews['review']) #save all reviews in a list named 'sentences'\n",
    "\n",
    "#for all reviews in the list apply the function 'preprocess_text()'\n",
    "for sen in sentences:\n",
    "    X.append(preprocess_text(sen)) #save the result of preprocessing for each review to the X array \n",
    "    \n",
    "#WRITE XSL File\n",
    "wb = xlwt.Workbook()\n",
    "\n",
    "sheet1 = wb.add_sheet('Sheet 1')\n",
    "#sheet.write(0, 0,'review,sentiment')\n",
    "\n",
    "for i in range(50000):\n",
    "    sheet1.write(i,1,X[i])\n",
    "    sheet1.write(i,2,movie_reviews['sentiment'][i])\n",
    "    \n",
    "wb.save('C:\\\\Users\\\\DespoinaK\\\\Desktop\\\\preprocessedData.xls')   \n",
    "\n",
    "#Example: Let's now again see the fourth review\n",
    "print(\"Let's now again see the 8th review\")\n",
    "print(\"Before Preprocessing\")\n",
    "sentences[7]\n",
    "\n"
   ]
  },
  {
   "cell_type": "code",
   "execution_count": 6,
   "metadata": {
    "scrolled": true
   },
   "outputs": [
    {
     "name": "stdout",
     "output_type": "stream",
     "text": [
      "\n",
      "\n",
      "After Preprocessing\n"
     ]
    },
    {
     "data": {
      "text/plain": [
       "'show amaze fresh innovative idea first air first year brilliant thing drop show not really funny anymore continued decline complete waste time today truly disgraceful far show fall write painfully bad performance almost bad not mildly entertain respite guest host show probably would not still air find hard believe creator hand select original cast also chose band hack follow one recognize brilliance see fit replace mediocrity felt must give star respect original cast make show huge success show awful not believe still air'"
      ]
     },
     "execution_count": 6,
     "metadata": {},
     "output_type": "execute_result"
    }
   ],
   "source": [
    "print(\"\\n\")\n",
    "print(\"After Preprocessing\")\n",
    "X[7]\n",
    "# printing the array X (all preprocessing reviews) \n",
    "#for i in range(len(X)): \n",
    "    #print (X[i]+\"\\n\")"
   ]
  },
  {
   "cell_type": "code",
   "execution_count": 7,
   "metadata": {
    "scrolled": true
   },
   "outputs": [],
   "source": [
    "#stop_words = set(stopwords.words('english'))\n",
    "#print(stop_words)\n"
   ]
  },
  {
   "cell_type": "code",
   "execution_count": null,
   "metadata": {},
   "outputs": [],
   "source": []
  },
  {
   "cell_type": "code",
   "execution_count": null,
   "metadata": {},
   "outputs": [],
   "source": []
  }
 ],
 "metadata": {
  "kernelspec": {
   "display_name": "Python 3.6 (tensorflow)",
   "language": "python",
   "name": "tensorflow"
  },
  "language_info": {
   "codemirror_mode": {
    "name": "ipython",
    "version": 3
   },
   "file_extension": ".py",
   "mimetype": "text/x-python",
   "name": "python",
   "nbconvert_exporter": "python",
   "pygments_lexer": "ipython3",
   "version": "3.6.9"
  }
 },
 "nbformat": 4,
 "nbformat_minor": 2
}
